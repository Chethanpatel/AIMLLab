{
 "cells": [
  {
   "cell_type": "code",
   "execution_count": 50,
   "id": "f3ad089c",
   "metadata": {},
   "outputs": [],
   "source": [
    "import pandas as pd \n",
    "from sklearn import tree\n",
    "from sklearn.preprocessing import LabelEncoder\n",
    "from sklearn.naive_bayes import GaussianNB"
   ]
  },
  {
   "cell_type": "code",
   "execution_count": 51,
   "id": "b7a50383",
   "metadata": {},
   "outputs": [
    {
     "name": "stdout",
     "output_type": "stream",
     "text": [
      "The first Five values : \n",
      "     Outlook Temperature Humidity  Windy PlayTennis\n",
      "0     Sunny         Hot     High  False         No\n",
      "1     Sunny         Hot     High   True         No\n",
      "2  Overcast         Hot     High  False        Yes\n",
      "3     Rainy        Mild     High  False        Yes\n",
      "4     Rainy        Cool   Normal  False        Yes\n"
     ]
    }
   ],
   "source": [
    "data = pd.read_csv('tennisdata.csv')\n",
    "print(\"The first Five values : \\n\", data.head())"
   ]
  },
  {
   "cell_type": "code",
   "execution_count": 52,
   "id": "cd0607d2",
   "metadata": {},
   "outputs": [
    {
     "name": "stdout",
     "output_type": "stream",
     "text": [
      "The first Five training values : \n",
      "     Outlook Temperature Humidity  Windy\n",
      "0     Sunny         Hot     High  False\n",
      "1     Sunny         Hot     High   True\n",
      "2  Overcast         Hot     High  False\n",
      "3     Rainy        Mild     High  False\n",
      "4     Rainy        Cool   Normal  False\n"
     ]
    }
   ],
   "source": [
    "x = data.iloc[:,:-1]\n",
    "print(\"The first Five training values : \\n\", x.head())"
   ]
  },
  {
   "cell_type": "code",
   "execution_count": 53,
   "id": "9b66ca1f",
   "metadata": {},
   "outputs": [
    {
     "name": "stdout",
     "output_type": "stream",
     "text": [
      "The first Five training values : \n",
      " 0     No\n",
      "1     No\n",
      "2    Yes\n",
      "3    Yes\n",
      "4    Yes\n",
      "Name: PlayTennis, dtype: object\n"
     ]
    }
   ],
   "source": [
    "y = data.iloc[:,-1]\n",
    "print(\"The first Five training values : \\n\", y.head())"
   ]
  },
  {
   "cell_type": "code",
   "execution_count": 54,
   "id": "3f4ae860",
   "metadata": {},
   "outputs": [
    {
     "name": "stdout",
     "output_type": "stream",
     "text": [
      "Now the transformed training values are : \n",
      "    Outlook  Temperature  Humidity  Windy\n",
      "0        2            1         0      0\n",
      "1        2            1         0      1\n",
      "2        0            1         0      0\n",
      "3        1            2         0      0\n",
      "4        1            0         1      0\n"
     ]
    }
   ],
   "source": [
    "le_outlook = LabelEncoder()\n",
    "x.Outlook = le_outlook.fit_transform(x.Outlook)\n",
    "\n",
    "le_Temperature  = LabelEncoder()\n",
    "x.Temperature  = le_outlook.fit_transform(x.Temperature)\n",
    "\n",
    "le_Humidity  = LabelEncoder()\n",
    "x.Humidity  = le_outlook.fit_transform(x.Humidity)\n",
    "\n",
    "le_windy = LabelEncoder()\n",
    "x.Windy = le_outlook.fit_transform(x.Windy)\n",
    "\n",
    "print(\"Now the transformed training values are : \\n\", x.head())\n",
    "\n"
   ]
  },
  {
   "cell_type": "code",
   "execution_count": 55,
   "id": "a181ee06",
   "metadata": {},
   "outputs": [
    {
     "name": "stdout",
     "output_type": "stream",
     "text": [
      "Now the transformed training output values are : \n",
      " [0 0 1 1 1 0 1 0 1 1 1 1 1 0]\n"
     ]
    }
   ],
   "source": [
    "le_playtennis = LabelEncoder()\n",
    "y = le_playtennis.fit_transform(y)\n",
    "\n",
    "print(\"Now the transformed training output values are : \\n\", y)\n"
   ]
  },
  {
   "cell_type": "code",
   "execution_count": 58,
   "id": "910a123b",
   "metadata": {},
   "outputs": [
    {
     "name": "stdout",
     "output_type": "stream",
     "text": [
      "Accuracy score :  0.6666666666666666\n"
     ]
    }
   ],
   "source": [
    "from sklearn.model_selection import train_test_split\n",
    "\n",
    "x_train, x_test, y_train , y_test = train_test_split(x,y, test_size=0.20)\n",
    "\n",
    "classifier = GaussianNB()\n",
    "classifier.fit(x_train, y_train)\n",
    "\n",
    "# from sklearn.metrics import accuracy_score\n",
    "# print(\"Accuracy score : \", accuracy_score(classifier.predict(x_test), y_test))\n",
    "\n",
    "print(\"Accuracy score : \", classifier.score(x_test, y_test))"
   ]
  },
  {
   "cell_type": "code",
   "execution_count": null,
   "id": "fa5af573",
   "metadata": {},
   "outputs": [],
   "source": []
  },
  {
   "cell_type": "code",
   "execution_count": null,
   "id": "f13a222e",
   "metadata": {},
   "outputs": [],
   "source": []
  },
  {
   "cell_type": "code",
   "execution_count": null,
   "id": "d23b196a",
   "metadata": {},
   "outputs": [],
   "source": []
  }
 ],
 "metadata": {
  "kernelspec": {
   "display_name": "Python 3 (ipykernel)",
   "language": "python",
   "name": "python3"
  },
  "language_info": {
   "codemirror_mode": {
    "name": "ipython",
    "version": 3
   },
   "file_extension": ".py",
   "mimetype": "text/x-python",
   "name": "python",
   "nbconvert_exporter": "python",
   "pygments_lexer": "ipython3",
   "version": "3.9.13"
  }
 },
 "nbformat": 4,
 "nbformat_minor": 5
}
