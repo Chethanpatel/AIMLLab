{
 "cells": [
  {
   "cell_type": "code",
   "execution_count": 53,
   "id": "ceed4c1a",
   "metadata": {},
   "outputs": [],
   "source": [
    "import numpy as np\n",
    "\n",
    "x = np.array(([2,9], [1, 5], [3, 6]), dtype=float)\n",
    "y= np.array(([92], [86], [89]),  dtype=float)\n",
    "\n",
    "x=x/np.amax(x, axis=0)\n",
    "y=y/100"
   ]
  },
  {
   "cell_type": "code",
   "execution_count": 54,
   "id": "66b791f2",
   "metadata": {},
   "outputs": [
    {
     "data": {
      "text/plain": [
       "array([[0.66666667, 1.        ],\n",
       "       [0.33333333, 0.55555556],\n",
       "       [1.        , 0.66666667]])"
      ]
     },
     "execution_count": 54,
     "metadata": {},
     "output_type": "execute_result"
    }
   ],
   "source": [
    "x"
   ]
  },
  {
   "cell_type": "code",
   "execution_count": 55,
   "id": "e3fc2d4e",
   "metadata": {},
   "outputs": [
    {
     "data": {
      "text/plain": [
       "array([[0.92],\n",
       "       [0.86],\n",
       "       [0.89]])"
      ]
     },
     "execution_count": 55,
     "metadata": {},
     "output_type": "execute_result"
    }
   ],
   "source": [
    "y"
   ]
  },
  {
   "cell_type": "code",
   "execution_count": 56,
   "id": "573f04fc",
   "metadata": {},
   "outputs": [],
   "source": [
    "epoch = 5000\n",
    "iln = 2\n",
    "hln = 3\n",
    "oln = 1\n",
    "lr = 0.1"
   ]
  },
  {
   "cell_type": "code",
   "execution_count": 57,
   "id": "274d5a63",
   "metadata": {},
   "outputs": [],
   "source": [
    "def sigmoid(x):\n",
    "    return 1/(1+np.exp(-x))\n",
    "\n",
    "def derivative_sigmoid(x):\n",
    "    return 1*(1-x)"
   ]
  },
  {
   "cell_type": "code",
   "execution_count": 58,
   "id": "8882b7ac",
   "metadata": {},
   "outputs": [],
   "source": [
    "wh = np.random.uniform(size=(iln, hln))\n",
    "bh = np.random.uniform(size=(1, hln))\n",
    "wout = np.random.uniform(size=(hln, oln))\n",
    "bout = np.random.uniform(size=(1,oln))"
   ]
  },
  {
   "cell_type": "code",
   "execution_count": 59,
   "id": "da0a4b94",
   "metadata": {},
   "outputs": [
    {
     "name": "stdout",
     "output_type": "stream",
     "text": [
      "Actual input :  [[0.66666667 1.        ]\n",
      " [0.33333333 0.55555556]\n",
      " [1.         0.66666667]]\n",
      "Actual output [[0.92]\n",
      " [0.86]\n",
      " [0.89]]\n",
      "Predicted output :  [[0.86797918]\n",
      " [0.86009736]\n",
      " [0.86626092]]\n"
     ]
    }
   ],
   "source": [
    "for i in range(epoch):\n",
    "    \n",
    "    #FORWARD PROPAGATION\n",
    "    hinp1 = np.dot(x, wh)\n",
    "    hinp = hinp1 + bh\n",
    "    hlayer_act = sigmoid(hinp)\n",
    "    \n",
    "    outinp1 = np.dot(hlayer_act, wout)\n",
    "    outinp = outinp1 + bout\n",
    "    output = sigmoid(outinp)\n",
    "    \n",
    "    #BACKWARD PROPAGATION\n",
    "    EO = y- output\n",
    "    outgrad = derivative_sigmoid(output)\n",
    "    d_output = EO * outgrad\n",
    "    \n",
    "    EH = d_output.dot(wout.T)\n",
    "    hiddengrad = derivative_sigmoid(hlayer_act)\n",
    "    d_hiddenlayer = EH * hiddengrad\n",
    "    \n",
    "\n",
    "wout+=hlayer_act.T.dot(d_output)*lr\n",
    "wh+=x.T.dot(d_hiddenlayer)*lr\n",
    "\n",
    "print(\"Actual input : \", str(x))\n",
    "print(\"Actual output\", str(y))\n",
    "print(\"Predicted output : \", str(output))\n",
    "    "
   ]
  },
  {
   "cell_type": "code",
   "execution_count": null,
   "id": "995c1142",
   "metadata": {},
   "outputs": [],
   "source": []
  },
  {
   "cell_type": "code",
   "execution_count": null,
   "id": "66077879",
   "metadata": {},
   "outputs": [],
   "source": []
  },
  {
   "cell_type": "code",
   "execution_count": null,
   "id": "96568670",
   "metadata": {},
   "outputs": [],
   "source": []
  }
 ],
 "metadata": {
  "kernelspec": {
   "display_name": "Python 3 (ipykernel)",
   "language": "python",
   "name": "python3"
  },
  "language_info": {
   "codemirror_mode": {
    "name": "ipython",
    "version": 3
   },
   "file_extension": ".py",
   "mimetype": "text/x-python",
   "name": "python",
   "nbconvert_exporter": "python",
   "pygments_lexer": "ipython3",
   "version": "3.9.13"
  }
 },
 "nbformat": 4,
 "nbformat_minor": 5
}
