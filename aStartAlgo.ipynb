{
 "cells": [
  {
   "cell_type": "code",
   "execution_count": 13,
   "id": "cbc80cbc",
   "metadata": {},
   "outputs": [],
   "source": [
    "def aStarAlgo(start_node, stop_node):\n",
    "    open_set=set(start_node)\n",
    "    closed_set = set()\n",
    "    \n",
    "    g={}\n",
    "    parents = {}\n",
    "    \n",
    "    g[start_node]=0\n",
    "    parents[start_node]=start_node\n",
    "    \n",
    "    while len(open_set)>0:\n",
    "        n=None\n",
    "        \n",
    "        for v in open_set:\n",
    "            if n==None or g[v]+h(v)< g[n]+h(n):\n",
    "                n=v\n",
    "                \n",
    "        if n==stop_node or Graph_nodes[n]==None:\n",
    "            pass\n",
    "        else:\n",
    "            for (m, weight) in get_neighbors(n):\n",
    "                if m not in open_set and m not in closed_set:\n",
    "                    open_set.add(m)\n",
    "                    parents[m]=n\n",
    "                    g[m]=g[n]+weight\n",
    "                    \n",
    "                else:\n",
    "                    \n",
    "                    if g[m]>g[n]+weight:\n",
    "                        g[m]=g[n]+weight\n",
    "                        parents[m]=n\n",
    "                        \n",
    "                        if m in closed_set:\n",
    "                            closed_set.remove(m)\n",
    "                            open_set.add(m)\n",
    "                            \n",
    "        if n == None:\n",
    "            print('Path does not exist')\n",
    "            return None\n",
    "        \n",
    "        if n==stop_node:\n",
    "            path = []\n",
    "            \n",
    "            while parents[n]!=n:\n",
    "                path.append(n)\n",
    "                n = parents[n]\n",
    "                \n",
    "            path.append(start_node)\n",
    "            path.reverse()\n",
    "            \n",
    "            print(\"Path Found : {}\".format(path))\n",
    "            return path \n",
    "        \n",
    "        open_set.remove(n)\n",
    "        closed_set.add(n)\n",
    "        \n",
    "    print('Path does not exist')\n",
    "    return None\n"
   ]
  },
  {
   "cell_type": "code",
   "execution_count": 14,
   "id": "bef196ab",
   "metadata": {},
   "outputs": [
    {
     "name": "stdout",
     "output_type": "stream",
     "text": [
      "Path Found : ['A', 'F', 'G', 'I', 'J']\n"
     ]
    },
    {
     "data": {
      "text/plain": [
       "['A', 'F', 'G', 'I', 'J']"
      ]
     },
     "execution_count": 14,
     "metadata": {},
     "output_type": "execute_result"
    }
   ],
   "source": [
    "def get_neighbors(v):\n",
    "    if v in Graph_nodes:\n",
    "        return Graph_nodes[v]\n",
    "    else:\n",
    "        return None\n",
    "#for simplicity we ll consider heuristic distances given\n",
    "#and this function returns heuristic distance for all nodes\n",
    " \n",
    "def h(n):\n",
    "    H_dist = {\n",
    "        'A': 10,\n",
    "        'B': 8,\n",
    "        'C': 5,\n",
    "        'D': 7,\n",
    "        'E': 3,\n",
    "        'F': 6,\n",
    "        'G': 5,\n",
    "        'H': 3,\n",
    "        'I': 1,\n",
    "        'J': 0\n",
    "    }\n",
    "\n",
    "    return H_dist[n]\n",
    "\n",
    "#Describe your graph here\n",
    "Graph_nodes = {\n",
    "    \n",
    "    'A': [('B', 6), ('F', 3)],\n",
    "    'B': [('C', 3), ('D', 2)],\n",
    "    'C': [('D', 1), ('E', 5)],\n",
    "    'D': [('C', 1), ('E', 8)],\n",
    "    'E': [('I', 5), ('J', 5)],\n",
    "    'F': [('G', 1),('H', 7)] ,\n",
    "    'G': [('I', 3)],\n",
    "    'H': [('I', 2)],\n",
    "    'I': [('E', 5), ('J', 3)],\n",
    "\n",
    "}\n",
    "\n",
    "aStarAlgo('A', 'J')"
   ]
  },
  {
   "cell_type": "code",
   "execution_count": null,
   "id": "8f8103fb",
   "metadata": {},
   "outputs": [],
   "source": []
  },
  {
   "cell_type": "code",
   "execution_count": null,
   "id": "392e93eb",
   "metadata": {},
   "outputs": [],
   "source": []
  },
  {
   "cell_type": "code",
   "execution_count": null,
   "id": "9623aef4",
   "metadata": {},
   "outputs": [],
   "source": []
  },
  {
   "cell_type": "code",
   "execution_count": null,
   "id": "b6be6f7a",
   "metadata": {},
   "outputs": [],
   "source": []
  }
 ],
 "metadata": {
  "kernelspec": {
   "display_name": "Python 3 (ipykernel)",
   "language": "python",
   "name": "python3"
  },
  "language_info": {
   "codemirror_mode": {
    "name": "ipython",
    "version": 3
   },
   "file_extension": ".py",
   "mimetype": "text/x-python",
   "name": "python",
   "nbconvert_exporter": "python",
   "pygments_lexer": "ipython3",
   "version": "3.9.13"
  }
 },
 "nbformat": 4,
 "nbformat_minor": 5
}
