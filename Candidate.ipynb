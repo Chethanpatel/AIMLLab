{
 "cells": [
  {
   "cell_type": "code",
   "execution_count": 13,
   "id": "6b737458",
   "metadata": {},
   "outputs": [
    {
     "name": "stdout",
     "output_type": "stream",
     "text": [
      "\n",
      " Step 1 Of Candidate Elimination Algorithm\n",
      "-------------------------------------------------------------------\n",
      "Specific Hypothesis:  ['Sunny', 'Warm', 'Normal', 'Strong', 'Warm', 'Same']\n",
      "General Hypothesis:  [['?', '?', '?', '?', '?', '?'], ['?', '?', '?', '?', '?', '?'], ['?', '?', '?', '?', '?', '?'], ['?', '?', '?', '?', '?', '?'], ['?', '?', '?', '?', '?', '?'], ['?', '?', '?', '?', '?', '?']]\n",
      "\n",
      " Step 2 Of Candidate Elimination Algorithm\n",
      "-------------------------------------------------------------------\n",
      "Specific Hypothesis:  ['Sunny', 'Warm', 'Normal', 'Strong', 'Warm', 'Same']\n",
      "General Hypothesis:  [['?', '?', '?', '?', '?', '?'], ['?', '?', '?', '?', '?', '?'], ['?', '?', '?', '?', '?', '?'], ['?', '?', '?', '?', '?', '?'], ['?', '?', '?', '?', '?', '?'], ['?', '?', '?', '?', '?', '?']]\n",
      "\n",
      " Step 3 Of Candidate Elimination Algorithm\n",
      "-------------------------------------------------------------------\n",
      "Specific Hypothesis:  ['Sunny', 'Warm', '?', 'Strong', 'Warm', 'Same']\n",
      "General Hypothesis:  [['?', '?', '?', '?', '?', '?'], ['?', '?', '?', '?', '?', '?'], ['?', '?', '?', '?', '?', '?'], ['?', '?', '?', '?', '?', '?'], ['?', '?', '?', '?', '?', '?'], ['?', '?', '?', '?', '?', '?']]\n",
      "\n",
      " Step 4 Of Candidate Elimination Algorithm\n",
      "-------------------------------------------------------------------\n",
      "Specific Hypothesis:  ['Sunny', 'Warm', '?', 'Strong', 'Warm', 'Same']\n",
      "General Hypothesis:  [['Sunny', '?', '?', '?', '?', '?'], ['?', 'Warm', '?', '?', '?', '?'], ['?', '?', '?', '?', '?', '?'], ['?', '?', '?', '?', '?', '?'], ['?', '?', '?', '?', '?', '?'], ['?', '?', '?', '?', '?', 'Same']]\n",
      "\n",
      " Step 5 Of Candidate Elimination Algorithm\n",
      "-------------------------------------------------------------------\n",
      "Specific Hypothesis:  ['Sunny', 'Warm', '?', 'Strong', '?', '?']\n",
      "General Hypothesis:  [['Sunny', '?', '?', '?', '?', '?'], ['?', 'Warm', '?', '?', '?', '?'], ['?', '?', '?', '?', '?', '?'], ['?', '?', '?', '?', '?', '?'], ['?', '?', '?', '?', '?', '?'], ['?', '?', '?', '?', '?', '?']]\n",
      ".......................................................................................................\n",
      ".......................................................................................................\n",
      "\n",
      " Final Specific Hypothesis: \n",
      " ['Sunny', 'Warm', '?', 'Strong', '?', '?']\n",
      ".......................................................................................................\n",
      "\n",
      " Final General Hypothesis: \n",
      " [['Sunny', '?', '?', '?', '?', '?'], ['?', 'Warm', '?', '?', '?', '?']]\n"
     ]
    }
   ],
   "source": [
    "import csv\n",
    "\n",
    "with open(\"trainingexamples.csv\") as f:\n",
    "    csv_file = csv.reader(f)\n",
    "    data = list(csv_file)\n",
    "    \n",
    "    specific= data[1][:-1]\n",
    "    general = [['?' for i in range(len(specific))] for j in range(len(specific))]\n",
    "    length = len(specific)\n",
    "    \n",
    "    for i in data:\n",
    "        if i[-1]==\"Yes\":\n",
    "            for j in range(length):\n",
    "                if i[j]!=specific[j]:\n",
    "                    specific[j]=\"?\"\n",
    "                    general[j][j]=\"?\"\n",
    "                    \n",
    "        elif i[-1]==\"No\":\n",
    "            for j in range(length):\n",
    "                if i[j]!=specific[j]:\n",
    "                    general[j][j]= specific[j]\n",
    "                else:\n",
    "                    general[j][j]=\"?\"\n",
    "                    \n",
    "        print(\"\\n Step \"+str(data.index(i)+1)+ \" Of Candidate Elimination Algorithm\")\n",
    "        print(\"-------------------------------------------------------------------\")\n",
    "        print(\"Specific Hypothesis: \",specific)\n",
    "        print(\"General Hypothesis: \", general)\n",
    "        \n",
    "    gh = []\n",
    "    for i in general:\n",
    "        for j in i:\n",
    "            if j!='?':\n",
    "                gh.append(i)\n",
    "                break\n",
    "    print(\".......................................................................................................\") \n",
    "    print(\".......................................................................................................\")\n",
    "    print(\"\\n Final Specific Hypothesis: \\n\", specific)\n",
    "    print(\".......................................................................................................\")\n",
    "    print(\"\\n Final General Hypothesis: \\n\", gh)"
   ]
  },
  {
   "cell_type": "code",
   "execution_count": null,
   "id": "f2ced382",
   "metadata": {},
   "outputs": [],
   "source": []
  }
 ],
 "metadata": {
  "kernelspec": {
   "display_name": "Python 3 (ipykernel)",
   "language": "python",
   "name": "python3"
  },
  "language_info": {
   "codemirror_mode": {
    "name": "ipython",
    "version": 3
   },
   "file_extension": ".py",
   "mimetype": "text/x-python",
   "name": "python",
   "nbconvert_exporter": "python",
   "pygments_lexer": "ipython3",
   "version": "3.9.13"
  }
 },
 "nbformat": 4,
 "nbformat_minor": 5
}
